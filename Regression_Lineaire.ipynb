{
 "cells": [
  {
   "cell_type": "markdown",
   "id": "71b85b44",
   "metadata": {},
   "source": [
    "# Exemple d'une régression linéaire"
   ]
  },
  {
   "cell_type": "markdown",
   "id": "e024b0b7",
   "metadata": {},
   "source": [
    "### Importation des modules utiles\n",
    "Nous allons avoir besoin de numpy et matplotlib"
   ]
  },
  {
   "cell_type": "code",
   "execution_count": 1,
   "id": "30d64242",
   "metadata": {},
   "outputs": [],
   "source": [
    "import numpy as np\n",
    "import matplotlib.pyplot as plt"
   ]
  },
  {
   "cell_type": "markdown",
   "id": "319a9a67",
   "metadata": {},
   "source": [
    "### Données à tracer\n",
    "On définit ci-dessous les deux listes contenant les données à tracer."
   ]
  },
  {
   "cell_type": "code",
   "execution_count": 2,
   "id": "228215ac",
   "metadata": {},
   "outputs": [],
   "source": [
    "liste_X = [ 4.15, 8.41, 16.60, 20.96, 26.48, 30.19, 39.10, 37.68 ]\n",
    "liste_Y = [10.61, 19.27, 26.11, 39.33, 53.78, 59.12, 70.58, 77.43]"
   ]
  },
  {
   "cell_type": "markdown",
   "id": "887013af",
   "metadata": {},
   "source": [
    "### Premier tracé\n",
    "On effectue un premier tracé pour avoir une idée de l'allure de la courbe.\n",
    "Comme il s'agit d'une courbe expérimentale, **il ne faut pas relier les points**.\n",
    "\n",
    "On utilise pour cela l'option **'+'** définissant la forme des marqueurs à utiliser.\n",
    "L'option **ms = 15** permet de définir la taille des marqueurs (ms = marker size)"
   ]
  },
  {
   "cell_type": "code",
   "execution_count": 3,
   "id": "31824e93",
   "metadata": {},
   "outputs": [
    {
     "data": {
      "image/png": "[encoded data removed]",
      "text/plain": [
       "<Figure size 432x288 with 1 Axes>"
      ]
     },
     "metadata": {
      "needs_background": "light"
     },
     "output_type": "display_data"
    }
   ],
   "source": [
    "plt.title('Titre du graphique')\n",
    "plt.xlabel('Axe des X (en cm)')\n",
    "plt.ylabel('Axe des Y (en cm)')\n",
    "\n",
    "plt.plot( liste_X, liste_Y, '+', ms=15)\n",
    "plt.show()"
   ]
  },
  {
   "cell_type": "markdown",
   "id": "bbd90ac7",
   "metadata": {},
   "source": [
    "Les points ayant l'air alignés, on peut tenter une régression linéaire."
   ]
  },
  {
   "cell_type": "markdown",
   "id": "4a358295",
   "metadata": {},
   "source": [
    "### Régression linéaire\n",
    "L'ajustement se fait avec une fonction du type $f : x \\mapsto ax+b$\n",
    "On utilise pour cela la fonction **polyfit** de numpy, qui réalise un ajustement par un polynôme. Il faut préciser l'ordre du polynôme (ici 1) en argument. La fonction renvoie les coefficients du meilleur polynôme (ici a et b)."
   ]
  },
  {
   "cell_type": "code",
   "execution_count": 4,
   "id": "038d68ba",
   "metadata": {},
   "outputs": [
    {
     "name": "stdout",
     "output_type": "stream",
     "text": [
      "Pente :  1.8891169241001646\n",
      "Ordonnée à l'origine :  1.1806007803666096\n"
     ]
    }
   ],
   "source": [
    "a, b = np.polyfit( liste_X, liste_Y, 1 )\n",
    "print(\"Pente : \", a)\n",
    "print(\"Ordonnée à l'origine : \", b)"
   ]
  },
  {
   "cell_type": "markdown",
   "id": "cd6ad56f",
   "metadata": {},
   "source": [
    "On définit alors la fonction $f$ correspondant à l'ajustement :"
   ]
  },
  {
   "cell_type": "code",
   "execution_count": 5,
   "id": "0cb9a31a",
   "metadata": {},
   "outputs": [],
   "source": [
    "def f(x):\n",
    "    return a*x + b"
   ]
  },
  {
   "cell_type": "markdown",
   "id": "c683cda4",
   "metadata": {},
   "source": [
    "### Tracé du graphique avec l'ajustement"
   ]
  },
  {
   "cell_type": "markdown",
   "id": "ad661a79",
   "metadata": {},
   "source": [
    "On ajoute le tracé de la droite sur le graphique précédent.\n",
    "Cela peut se faire de deux manières."
   ]
  },
  {
   "cell_type": "markdown",
   "id": "604eaaad",
   "metadata": {},
   "source": [
    "##### 1 : en calculant la liste des f(x) à l'aide d'une boucle ou d'une construction par compéhension :"
   ]
  },
  {
   "cell_type": "code",
   "execution_count": 6,
   "id": "93fd2495",
   "metadata": {},
   "outputs": [],
   "source": [
    "liste_fX = [ f(liste_X[i]) for i in range(len(liste_X)) ]"
   ]
  },
  {
   "cell_type": "markdown",
   "id": "9f8075b9",
   "metadata": {},
   "source": [
    "##### 2 : en effectuant un calcul vectorisé à partir de tableaux numpy :"
   ]
  },
  {
   "cell_type": "code",
   "execution_count": 7,
   "id": "2bc289bd",
   "metadata": {},
   "outputs": [],
   "source": [
    "liste_fX = f( np.array(liste_X) )"
   ]
  },
  {
   "cell_type": "markdown",
   "id": "2da53dc1",
   "metadata": {},
   "source": [
    "Finalement, on trace la courbe. Une légende est ajoutée à l'aide de **plt.legend**"
   ]
  },
  {
   "cell_type": "code",
   "execution_count": 8,
   "id": "902b59ae",
   "metadata": {},
   "outputs": [
    {
     "data": {
      "image/png": "[encoded data removed]",
      "text/plain": [
       "<Figure size 432x288 with 1 Axes>"
      ]
     },
     "metadata": {
      "needs_background": "light"
     },
     "output_type": "display_data"
    }
   ],
   "source": [
    "plt.title('Titre du graphique')\n",
    "plt.xlabel('Axe des X (en cm)')\n",
    "plt.ylabel('Axe des Y (en cm)')\n",
    "\n",
    "plt.plot( liste_X, liste_Y, '+', label=\"Données\", ms=15)\n",
    "plt.plot( liste_X, liste_fX, '-', label='Modèle')\n",
    "\n",
    "plt.legend(loc='upper left')  # affiche la légende\n",
    "plt.show()"
   ]
  }
 ],
 "metadata": {
  "kernelspec": {
   "display_name": "Python 3 (ipykernel)",
   "language": "python",
   "name": "python3"
  },
  "language_info": {
   "codemirror_mode": {
    "name": "ipython",
    "version": 3
   },
   "file_extension": ".py",
   "mimetype": "text/x-python",
   "name": "python",
   "nbconvert_exporter": "python",
   "pygments_lexer": "ipython3",
   "version": "3.10.12"
  }
 },
 "nbformat": 4,
 "nbformat_minor": 5
}
